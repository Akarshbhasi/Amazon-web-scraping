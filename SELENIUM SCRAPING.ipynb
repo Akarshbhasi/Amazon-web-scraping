{
 "cells": [
  {
   "cell_type": "code",
   "execution_count": 27,
   "id": "25df23c3",
   "metadata": {},
   "outputs": [],
   "source": [
    "import selenium\n",
    "from selenium import webdriver\n",
    "from selenium.webdriver.common.by import By\n",
    "import requests\n",
    "import time\n",
    "from selenium.common.exceptions import StaleElementReferenceException, NoSuchElementException\n",
    "import warnings\n",
    "warnings.filterwarnings('ignore')"
   ]
  },
  {
   "cell_type": "code",
   "execution_count": 21,
   "id": "bc2ab87a",
   "metadata": {},
   "outputs": [],
   "source": [
    "\n",
    "driver = webdriver.Chrome(r'C:\\Users\\Akarsh\\Desktop\\chromedriver_win32[1]\\chromedriver.exe')\n"
   ]
  },
  {
   "cell_type": "code",
   "execution_count": 22,
   "id": "dac67a1f",
   "metadata": {},
   "outputs": [],
   "source": [
    "url = \"http://www.amazon.in/\"\n",
    "driver.get(url)"
   ]
  },
  {
   "cell_type": "code",
   "execution_count": 29,
   "id": "78992950",
   "metadata": {},
   "outputs": [],
   "source": [
    "input = driver.find_element(By.XPATH,\"//*[@id='twotabsearchtextbox']\")\n",
    "input.send_keys(\"sarees\")"
   ]
  },
  {
   "cell_type": "code",
   "execution_count": 31,
   "id": "e5ed2e07",
   "metadata": {},
   "outputs": [],
   "source": [
    "bnt = driver.find_element(By.XPATH,\"//*[@id='lists-createlist-createAndAddAsin']\").click"
   ]
  },
  {
   "cell_type": "code",
   "execution_count": 32,
   "id": "f35f97c5",
   "metadata": {},
   "outputs": [],
   "source": [
    "images_shirts = []"
   ]
  },
  {
   "cell_type": "code",
   "execution_count": 38,
   "id": "fde86378",
   "metadata": {},
   "outputs": [],
   "source": [
    "elements = driver.find_elements(By.XPATH,\"//img[@class='s-image']\")\n",
    "for i in elements :\n",
    "    image = i.get_attribute('src')\n",
    "    images_shirts.append(image)"
   ]
  },
  {
   "cell_type": "code",
   "execution_count": 39,
   "id": "46349c34",
   "metadata": {},
   "outputs": [
    {
     "name": "stdout",
     "output_type": "stream",
     "text": [
      "this is the file name:81LThZqBayL._AC_UL320_.jpg\n",
      "this is the file name:81P0MNBX0aL._AC_UL320_.jpg\n",
      "this is the file name:81EldXaltNL._AC_UL320_.jpg\n",
      "this is the file name:618Wek95laS._AC_UL320_.jpg\n",
      "this is the file name:611vPh+8CKL._AC_UL320_.jpg\n",
      "this is the file name:61KNBTw4K8S._AC_UL320_.jpg\n",
      "this is the file name:81EqA--jXFL._AC_UL320_.jpg\n",
      "this is the file name:91TkGWgK4ML._AC_UL320_.jpg\n",
      "this is the file name:71yM0xUAetL._AC_UL320_.jpg\n",
      "this is the file name:61uBH8gIIIL._AC_UL320_.jpg\n",
      "this is the file name:81uTb5UwUgL._AC_UL320_.jpg\n",
      "this is the file name:61FleZG8eFL._AC_UL320_.jpg\n",
      "this is the file name:61DGAlvxRLL._AC_UL320_.jpg\n",
      "this is the file name:512pBZ7L-JL._AC_UL320_.jpg\n",
      "this is the file name:61YQd1wdQBL._AC_UL320_.jpg\n",
      "this is the file name:61RqedeafJL._AC_UL320_.jpg\n",
      "this is the file name:81LThZqBayL._AC_UL320_.jpg\n",
      "this is the file name:71isliRHNfL._AC_UL320_.jpg\n",
      "this is the file name:71cFpnm0b6S._AC_UL320_.jpg\n",
      "this is the file name:41EXa9tc1YL._AC_UL320_.jpg\n",
      "this is the file name:71rDgGA4C+L._AC_UL320_.jpg\n",
      "this is the file name:81n4+gmz+6L._AC_UL320_.jpg\n",
      "this is the file name:61i2gT-+2FL._AC_UL320_.jpg\n",
      "this is the file name:51X5gPvQbNL._AC_UL320_.jpg\n",
      "this is the file name:51xIdD73bWL._AC_UL320_.jpg\n",
      "this is the file name:61mI3QmECUL._AC_UL320_.jpg\n",
      "this is the file name:61XkWjxqQyL._AC_UL320_.jpg\n",
      "this is the file name:71tHEf94tqL._AC_UL320_.jpg\n",
      "this is the file name:61UOfscarYL._AC_UL320_.jpg\n",
      "this is the file name:81vuqr1DAtL._AC_UL320_.jpg\n",
      "this is the file name:81rLLR6EnHL._AC_UL320_.jpg\n",
      "this is the file name:81HiYZ68-nL._AC_UL320_.jpg\n",
      "this is the file name:61j0cpBJjJS._AC_UL320_.jpg\n",
      "this is the file name:71fN2rEcvzL._AC_UL320_.jpg\n",
      "this is the file name:811bXqP79JL._AC_UL320_.jpg\n",
      "this is the file name:71reQ5Az-YL._AC_UL320_.jpg\n",
      "this is the file name:71QnvvOxvNL._AC_UL320_.jpg\n",
      "this is the file name:61M9W03qZ6L._AC_UL320_.jpg\n",
      "this is the file name:81aiH7hmo7L._AC_UL320_.jpg\n",
      "this is the file name:91U7fMF7IlL._AC_UL320_.jpg\n",
      "this is the file name:81GvFKptTJL._AC_UL320_.jpg\n",
      "this is the file name:61JISL8fV0L._AC_UL320_.jpg\n",
      "this is the file name:712tCu4zr7L._AC_UL320_.jpg\n",
      "this is the file name:717MR8lvVwS._AC_UL320_.jpg\n",
      "this is the file name:71aL+mVnpHL._AC_UL320_.jpg\n",
      "this is the file name:71-0gpmRw4L._AC_UL320_.jpg\n",
      "this is the file name:61J8Xb4bZrL._AC_UL320_.jpg\n",
      "this is the file name:71YrGq1rRQL._AC_UL320_.jpg\n",
      "this is the file name:61ACiReVbML._AC_UL320_.jpg\n",
      "this is the file name:61bmwT56eWL._AC_UL320_.jpg\n",
      "this is the file name:81s+xBcykfL._AC_UL320_.jpg\n",
      "this is the file name:61eH+je56TL._AC_UL320_.jpg\n",
      "this is the file name:71oLDj9FIrL._AC_UL320_.jpg\n",
      "this is the file name:61IYMAkqaeL._AC_UL320_.jpg\n",
      "this is the file name:81KQc2HXQuL._AC_UL320_.jpg\n",
      "this is the file name:71uSOEbygDL._AC_UL320_.jpg\n",
      "this is the file name:71yrsjp5ilL._AC_UL320_.jpg\n",
      "this is the file name:91AkRv0FIAL._AC_UL320_.jpg\n",
      "this is the file name:711QrHEzkVL._AC_UL320_.jpg\n"
     ]
    }
   ],
   "source": [
    "for img in images_shirts:\n",
    "    file_name = img.split('/')[-1]\n",
    "    print(f\"this is the file name:{file_name}\")\n",
    "    r = requests.get(img,stream=True)\n",
    "    if r.status_code == 200:\n",
    "        with open(file_name, 'wb') as f:\n",
    "            for chunk in r:\n",
    "                f.write(chunk)\n",
    "                \n",
    "    else:\n",
    "        print('')"
   ]
  },
  {
   "cell_type": "code",
   "execution_count": null,
   "id": "b60085bd",
   "metadata": {},
   "outputs": [],
   "source": []
  }
 ],
 "metadata": {
  "kernelspec": {
   "display_name": "Python 3 (ipykernel)",
   "language": "python",
   "name": "python3"
  },
  "language_info": {
   "codemirror_mode": {
    "name": "ipython",
    "version": 3
   },
   "file_extension": ".py",
   "mimetype": "text/x-python",
   "name": "python",
   "nbconvert_exporter": "python",
   "pygments_lexer": "ipython3",
   "version": "3.9.12"
  }
 },
 "nbformat": 4,
 "nbformat_minor": 5
}
